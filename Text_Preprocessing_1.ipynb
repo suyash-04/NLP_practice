{
 "cells": [
  {
   "cell_type": "code",
   "execution_count": 27,
   "metadata": {},
   "outputs": [],
   "source": [
    "import nltk\n",
    "from nltk.stem import PorterStemmer\n",
    "from nltk.corpus import stopwords"
   ]
  },
  {
   "cell_type": "code",
   "execution_count": 28,
   "metadata": {},
   "outputs": [],
   "source": [
    "paragraph =\"\"\"Founded in 1899 by a group of Swiss, Catalan, German, and English footballers led by Joan Gamper, the club has become a symbol of Catalan culture and Catalanism, hence the motto \"Més que un club\" (\"More than a club\").[2] Unlike many other football clubs, the supporters own and operate Barcelona. It is the third-most valuable football club in the world, worth $5.51 billion, and the world's fourth richest football club in terms of revenue, with an annual turnover of €800.1 million.[3][4] The official Barcelona anthem is the \"Cant del Barça\", written by Jaume Picas and Josep Maria Espinàs.[5] Barcelona traditionally play in dark shades of blue and garnet stripes, hence nicknamed Blaugrana.\n",
    "\n",
    "Domestically, Barcelona has won a record 77 trophies: 27 La Liga, 31 Copa del Rey, 14 Supercopa de España, three Copa Eva Duarte, and two Copa de la Liga titles, as well as being the record holder for the latter four competitions. In international club football, the club has won 22 European and worldwide titles: five UEFA Champions League titles, a record four UEFA Cup Winners' Cups, five UEFA Super Cups, a record three Inter-Cities Fairs Cups, a joint record two Latin Cups, and three FIFA Club World Cups.[6][7][8] Barcelona was ranked first in the International Federation of Football History & Statistics Club World Ranking for 1997, 2009, 2011, 2012, and 2015, and occupies the ninth position on the UEFA club rankings as of May 2023.[9][10][11] The club has a long-standing rivalry with Real Madrid, and matches between the two teams are referred to as El Clásico.\n",
    "\n",
    "Barcelona is one of the most widely supported teams in the world, and the club has one of the largest social media following in the world among sports teams.[12][13] Barcelona players have won a joint record twelve Ballon d'Or awards, with recipients including Johan Cruyff, as well as a record six FIFA World Player of the Year awards, with winners including Romário, Ronaldo, Rivaldo, Ronaldinho and Lionel Messi. In 2010, three players who came through the club's youth academy—Lionel Messi, Andrés Iniesta and Xavi—were chosen as the three best players in the world in the Ballon d'Or ranking, an unprecedented feat for players from the same football academy.[14][15] Additionally, players representing the club have won a record eight European Golden Shoe awards.[16]\"\"\""
   ]
  },
  {
   "cell_type": "code",
   "execution_count": 29,
   "metadata": {},
   "outputs": [
    {
     "name": "stderr",
     "output_type": "stream",
     "text": [
      "[nltk_data] Downloading package punkt to C:\\Users\\Suyash/nltk_data...\n",
      "[nltk_data]   Package punkt is already up-to-date!\n"
     ]
    },
    {
     "data": {
      "text/plain": [
       "True"
      ]
     },
     "execution_count": 29,
     "metadata": {},
     "output_type": "execute_result"
    }
   ],
   "source": [
    "nltk.download('punkt')"
   ]
  },
  {
   "cell_type": "code",
   "execution_count": 30,
   "metadata": {},
   "outputs": [],
   "source": [
    "sentences = nltk.sent_tokenize(paragraph)"
   ]
  },
  {
   "cell_type": "code",
   "execution_count": 31,
   "metadata": {},
   "outputs": [
    {
     "data": {
      "text/plain": [
       "['Founded in 1899 by a group of Swiss, Catalan, German, and English footballers led by Joan Gamper, the club has become a symbol of Catalan culture and Catalanism, hence the motto \"Més que un club\" (\"More than a club\").',\n",
       " '[2] Unlike many other football clubs, the supporters own and operate Barcelona.',\n",
       " \"It is the third-most valuable football club in the world, worth $5.51 billion, and the world's fourth richest football club in terms of revenue, with an annual turnover of €800.1 million.\",\n",
       " '[3][4] The official Barcelona anthem is the \"Cant del Barça\", written by Jaume Picas and Josep Maria Espinàs.',\n",
       " '[5] Barcelona traditionally play in dark shades of blue and garnet stripes, hence nicknamed Blaugrana.',\n",
       " 'Domestically, Barcelona has won a record 77 trophies: 27 La Liga, 31 Copa del Rey, 14 Supercopa de España, three Copa Eva Duarte, and two Copa de la Liga titles, as well as being the record holder for the latter four competitions.',\n",
       " \"In international club football, the club has won 22 European and worldwide titles: five UEFA Champions League titles, a record four UEFA Cup Winners' Cups, five UEFA Super Cups, a record three Inter-Cities Fairs Cups, a joint record two Latin Cups, and three FIFA Club World Cups.\",\n",
       " '[6][7][8] Barcelona was ranked first in the International Federation of Football History & Statistics Club World Ranking for 1997, 2009, 2011, 2012, and 2015, and occupies the ninth position on the UEFA club rankings as of May 2023.',\n",
       " '[9][10][11] The club has a long-standing rivalry with Real Madrid, and matches between the two teams are referred to as El Clásico.',\n",
       " 'Barcelona is one of the most widely supported teams in the world, and the club has one of the largest social media following in the world among sports teams.',\n",
       " \"[12][13] Barcelona players have won a joint record twelve Ballon d'Or awards, with recipients including Johan Cruyff, as well as a record six FIFA World Player of the Year awards, with winners including Romário, Ronaldo, Rivaldo, Ronaldinho and Lionel Messi.\",\n",
       " \"In 2010, three players who came through the club's youth academy—Lionel Messi, Andrés Iniesta and Xavi—were chosen as the three best players in the world in the Ballon d'Or ranking, an unprecedented feat for players from the same football academy.\",\n",
       " '[14][15] Additionally, players representing the club have won a record eight European Golden Shoe awards.',\n",
       " '[16]']"
      ]
     },
     "execution_count": 31,
     "metadata": {},
     "output_type": "execute_result"
    }
   ],
   "source": [
    "sentences"
   ]
  },
  {
   "cell_type": "code",
   "execution_count": 32,
   "metadata": {},
   "outputs": [
    {
     "data": {
      "text/plain": [
       "list"
      ]
     },
     "execution_count": 32,
     "metadata": {},
     "output_type": "execute_result"
    }
   ],
   "source": [
    "type(sentences)"
   ]
  },
  {
   "cell_type": "code",
   "execution_count": 33,
   "metadata": {},
   "outputs": [
    {
     "data": {
      "text/plain": [
       "'histori'"
      ]
     },
     "execution_count": 33,
     "metadata": {},
     "output_type": "execute_result"
    }
   ],
   "source": [
    "stemmer = PorterStemmer()\n",
    "stemmer.stem('history')~~"
   ]
  },
  {
   "cell_type": "code",
   "execution_count": 34,
   "metadata": {},
   "outputs": [],
   "source": [
    "from nltk.stem import WordNetLemmatizer"
   ]
  },
  {
   "cell_type": "code",
   "execution_count": 35,
   "metadata": {},
   "outputs": [
    {
     "data": {
      "text/plain": [
       "'history'"
      ]
     },
     "execution_count": 35,
     "metadata": {},
     "output_type": "execute_result"
    }
   ],
   "source": [
    "lemmatizer = WordNetLemmatizer()\n",
    "lemmatizer.lemmatize('history')"
   ]
  },
  {
   "cell_type": "code",
   "execution_count": 36,
   "metadata": {},
   "outputs": [
    {
     "data": {
      "text/plain": [
       "14"
      ]
     },
     "execution_count": 36,
     "metadata": {},
     "output_type": "execute_result"
    }
   ],
   "source": [
    "len(sentences)"
   ]
  },
  {
   "cell_type": "code",
   "execution_count": 37,
   "metadata": {},
   "outputs": [],
   "source": [
    "import re\n",
    "corpus = []\n",
    "for i in range(len(sentences)):\n",
    "    review = re.sub('[^a-zA-Z]',' ',sentences[i])\n",
    "    review =review.lower()\n",
    "    review = nltk.word_tokenize(review)\n",
    "    review = [lemmatizer.lemmatize(word) for word in review if not word in set(stopwords.words('english'))]\n",
    "    review = ' '.join(review)\n",
    "    corpus.append(review)"
   ]
  },
  {
   "cell_type": "code",
   "execution_count": 38,
   "metadata": {},
   "outputs": [
    {
     "data": {
      "text/plain": [
       "['founded group swiss catalan german english footballer led joan gamper club become symbol catalan culture catalanism hence motto que un club club',\n",
       " 'unlike many football club supporter operate barcelona',\n",
       " 'third valuable football club world worth billion world fourth richest football club term revenue annual turnover million',\n",
       " 'official barcelona anthem cant del bar written jaume pica josep maria espin',\n",
       " 'barcelona traditionally play dark shade blue garnet stripe hence nicknamed blaugrana',\n",
       " 'domestically barcelona record trophy la liga copa del rey supercopa de espa three copa eva duarte two copa de la liga title well record holder latter four competition',\n",
       " 'international club football club european worldwide title five uefa champion league title record four uefa cup winner cup five uefa super cup record three inter city fair cup joint record two latin cup three fifa club world cup',\n",
       " 'barcelona ranked first international federation football history statistic club world ranking occupies ninth position uefa club ranking may',\n",
       " 'club long standing rivalry real madrid match two team referred el cl sico',\n",
       " 'barcelona one widely supported team world club one largest social medium following world among sport team',\n",
       " 'barcelona player joint record twelve ballon award recipient including johan cruyff well record six fifa world player year award winner including rom rio ronaldo rivaldo ronaldinho lionel messi',\n",
       " 'three player came club youth academy lionel messi andr iniesta xavi chosen three best player world ballon ranking unprecedented feat player football academy',\n",
       " 'additionally player representing club record eight european golden shoe award',\n",
       " '']"
      ]
     },
     "execution_count": 38,
     "metadata": {},
     "output_type": "execute_result"
    }
   ],
   "source": [
    "corpus"
   ]
  },
  {
   "cell_type": "code",
   "execution_count": 60,
   "metadata": {},
   "outputs": [],
   "source": [
    "#Bag of Words\n",
    "\n",
    "from sklearn.feature_extraction.text import CountVectorizer\n",
    "cv = CountVectorizer(binary= True, ngram_range=(2,3))\n"
   ]
  },
  {
   "cell_type": "code",
   "execution_count": 61,
   "metadata": {},
   "outputs": [],
   "source": [
    "X = cv.fit_transform(corpus)"
   ]
  },
  {
   "cell_type": "code",
   "execution_count": 62,
   "metadata": {},
   "outputs": [
    {
     "data": {
      "text/plain": [
       "{'founded group': 159,\n",
       " 'group swiss': 174,\n",
       " 'swiss catalan': 344,\n",
       " 'catalan german': 48,\n",
       " 'german english': 170,\n",
       " 'english footballer': 122,\n",
       " 'footballer led': 157,\n",
       " 'led joan': 218,\n",
       " 'joan gamper': 198,\n",
       " 'gamper club': 166,\n",
       " 'club become': 59,\n",
       " 'become symbol': 34,\n",
       " 'symbol catalan': 346,\n",
       " 'catalan culture': 46,\n",
       " 'culture catalanism': 92,\n",
       " 'catalanism hence': 50,\n",
       " 'hence motto': 176,\n",
       " 'motto que': 239,\n",
       " 'que un': 271,\n",
       " 'un club': 393,\n",
       " 'club club': 61,\n",
       " 'founded group swiss': 160,\n",
       " 'group swiss catalan': 175,\n",
       " 'swiss catalan german': 345,\n",
       " 'catalan german english': 49,\n",
       " 'german english footballer': 171,\n",
       " 'english footballer led': 123,\n",
       " 'footballer led joan': 158,\n",
       " 'led joan gamper': 219,\n",
       " 'joan gamper club': 199,\n",
       " 'gamper club become': 167,\n",
       " 'club become symbol': 60,\n",
       " 'become symbol catalan': 35,\n",
       " 'symbol catalan culture': 347,\n",
       " 'catalan culture catalanism': 47,\n",
       " 'culture catalanism hence': 93,\n",
       " 'catalanism hence motto': 51,\n",
       " 'hence motto que': 177,\n",
       " 'motto que un': 240,\n",
       " 'que un club': 272,\n",
       " 'un club club': 394,\n",
       " 'unlike many': 395,\n",
       " 'many football': 230,\n",
       " 'football club': 150,\n",
       " 'club supporter': 74,\n",
       " 'supporter operate': 342,\n",
       " 'operate barcelona': 252,\n",
       " 'unlike many football': 396,\n",
       " 'many football club': 231,\n",
       " 'football club supporter': 152,\n",
       " 'club supporter operate': 75,\n",
       " 'supporter operate barcelona': 343,\n",
       " 'third valuable': 354,\n",
       " 'valuable football': 399,\n",
       " 'club world': 78,\n",
       " 'world worth': 423,\n",
       " 'worth billion': 427,\n",
       " 'billion world': 38,\n",
       " 'world fourth': 417,\n",
       " 'fourth richest': 164,\n",
       " 'richest football': 308,\n",
       " 'club term': 76,\n",
       " 'term revenue': 352,\n",
       " 'revenue annual': 304,\n",
       " 'annual turnover': 8,\n",
       " 'turnover million': 376,\n",
       " 'third valuable football': 355,\n",
       " 'valuable football club': 400,\n",
       " 'football club world': 154,\n",
       " 'club world worth': 81,\n",
       " 'world worth billion': 424,\n",
       " 'worth billion world': 428,\n",
       " 'billion world fourth': 39,\n",
       " 'world fourth richest': 418,\n",
       " 'fourth richest football': 165,\n",
       " 'richest football club': 309,\n",
       " 'football club term': 153,\n",
       " 'club term revenue': 77,\n",
       " 'term revenue annual': 353,\n",
       " 'revenue annual turnover': 305,\n",
       " 'annual turnover million': 9,\n",
       " 'official barcelona': 246,\n",
       " 'barcelona anthem': 22,\n",
       " 'anthem cant': 10,\n",
       " 'cant del': 44,\n",
       " 'del bar': 110,\n",
       " 'bar written': 20,\n",
       " 'written jaume': 429,\n",
       " 'jaume pica': 196,\n",
       " 'pica josep': 253,\n",
       " 'josep maria': 205,\n",
       " 'maria espin': 232,\n",
       " 'official barcelona anthem': 247,\n",
       " 'barcelona anthem cant': 23,\n",
       " 'anthem cant del': 11,\n",
       " 'cant del bar': 45,\n",
       " 'del bar written': 111,\n",
       " 'bar written jaume': 21,\n",
       " 'written jaume pica': 430,\n",
       " 'jaume pica josep': 197,\n",
       " 'pica josep maria': 254,\n",
       " 'josep maria espin': 206,\n",
       " 'barcelona traditionally': 32,\n",
       " 'traditionally play': 372,\n",
       " 'play dark': 255,\n",
       " 'dark shade': 104,\n",
       " 'shade blue': 322,\n",
       " 'blue garnet': 40,\n",
       " 'garnet stripe': 168,\n",
       " 'stripe hence': 334,\n",
       " 'hence nicknamed': 178,\n",
       " 'nicknamed blaugrana': 241,\n",
       " 'barcelona traditionally play': 33,\n",
       " 'traditionally play dark': 373,\n",
       " 'play dark shade': 256,\n",
       " 'dark shade blue': 105,\n",
       " 'shade blue garnet': 323,\n",
       " 'blue garnet stripe': 41,\n",
       " 'garnet stripe hence': 169,\n",
       " 'stripe hence nicknamed': 335,\n",
       " 'hence nicknamed blaugrana': 179,\n",
       " 'domestically barcelona': 114,\n",
       " 'barcelona record': 30,\n",
       " 'record trophy': 294,\n",
       " 'trophy la': 374,\n",
       " 'la liga': 207,\n",
       " 'liga copa': 220,\n",
       " 'copa del': 86,\n",
       " 'del rey': 112,\n",
       " 'rey supercopa': 306,\n",
       " 'supercopa de': 338,\n",
       " 'de espa': 106,\n",
       " 'espa three': 124,\n",
       " 'three copa': 358,\n",
       " 'copa eva': 88,\n",
       " 'eva duarte': 130,\n",
       " 'duarte two': 116,\n",
       " 'two copa': 379,\n",
       " 'copa de': 84,\n",
       " 'de la': 108,\n",
       " 'liga title': 222,\n",
       " 'title well': 370,\n",
       " 'well record': 401,\n",
       " 'record holder': 288,\n",
       " 'holder latter': 182,\n",
       " 'latter four': 214,\n",
       " 'four competition': 161,\n",
       " 'domestically barcelona record': 115,\n",
       " 'barcelona record trophy': 31,\n",
       " 'record trophy la': 295,\n",
       " 'trophy la liga': 375,\n",
       " 'la liga copa': 208,\n",
       " 'liga copa del': 221,\n",
       " 'copa del rey': 87,\n",
       " 'del rey supercopa': 113,\n",
       " 'rey supercopa de': 307,\n",
       " 'supercopa de espa': 339,\n",
       " 'de espa three': 107,\n",
       " 'espa three copa': 125,\n",
       " 'three copa eva': 359,\n",
       " 'copa eva duarte': 89,\n",
       " 'eva duarte two': 131,\n",
       " 'duarte two copa': 117,\n",
       " 'two copa de': 380,\n",
       " 'copa de la': 85,\n",
       " 'de la liga': 109,\n",
       " 'la liga title': 209,\n",
       " 'liga title well': 223,\n",
       " 'title well record': 371,\n",
       " 'well record holder': 402,\n",
       " 'record holder latter': 289,\n",
       " 'holder latter four': 183,\n",
       " 'latter four competition': 215,\n",
       " 'international club': 192,\n",
       " 'club football': 64,\n",
       " 'club european': 62,\n",
       " 'european worldwide': 128,\n",
       " 'worldwide title': 425,\n",
       " 'title five': 366,\n",
       " 'five uefa': 144,\n",
       " 'uefa champion': 385,\n",
       " 'champion league': 52,\n",
       " 'league title': 216,\n",
       " 'title record': 368,\n",
       " 'record four': 286,\n",
       " 'four uefa': 162,\n",
       " 'uefa cup': 389,\n",
       " 'cup winner': 102,\n",
       " 'winner cup': 406,\n",
       " 'cup five': 94,\n",
       " 'uefa super': 391,\n",
       " 'super cup': 336,\n",
       " 'cup record': 98,\n",
       " 'record three': 292,\n",
       " 'three inter': 362,\n",
       " 'inter city': 190,\n",
       " 'city fair': 56,\n",
       " 'fair cup': 132,\n",
       " 'cup joint': 96,\n",
       " 'joint record': 202,\n",
       " 'record two': 298,\n",
       " 'two latin': 381,\n",
       " 'latin cup': 212,\n",
       " 'cup three': 100,\n",
       " 'three fifa': 360,\n",
       " 'fifa club': 138,\n",
       " 'world cup': 416,\n",
       " 'international club football': 193,\n",
       " 'club football club': 65,\n",
       " 'football club european': 151,\n",
       " 'club european worldwide': 63,\n",
       " 'european worldwide title': 129,\n",
       " 'worldwide title five': 426,\n",
       " 'title five uefa': 367,\n",
       " 'five uefa champion': 145,\n",
       " 'uefa champion league': 386,\n",
       " 'champion league title': 53,\n",
       " 'league title record': 217,\n",
       " 'title record four': 369,\n",
       " 'record four uefa': 287,\n",
       " 'four uefa cup': 163,\n",
       " 'uefa cup winner': 390,\n",
       " 'cup winner cup': 103,\n",
       " 'winner cup five': 407,\n",
       " 'cup five uefa': 95,\n",
       " 'five uefa super': 146,\n",
       " 'uefa super cup': 392,\n",
       " 'super cup record': 337,\n",
       " 'cup record three': 99,\n",
       " 'record three inter': 293,\n",
       " 'three inter city': 363,\n",
       " 'inter city fair': 191,\n",
       " 'city fair cup': 57,\n",
       " 'fair cup joint': 133,\n",
       " 'cup joint record': 97,\n",
       " 'joint record two': 204,\n",
       " 'record two latin': 299,\n",
       " 'two latin cup': 382,\n",
       " 'latin cup three': 213,\n",
       " 'cup three fifa': 101,\n",
       " 'three fifa club': 361,\n",
       " 'fifa club world': 139,\n",
       " 'club world cup': 79,\n",
       " 'barcelona ranked': 28,\n",
       " 'ranked first': 273,\n",
       " 'first international': 142,\n",
       " 'international federation': 194,\n",
       " 'federation football': 136,\n",
       " 'football history': 155,\n",
       " 'history statistic': 180,\n",
       " 'statistic club': 332,\n",
       " 'world ranking': 421,\n",
       " 'ranking occupies': 276,\n",
       " 'occupies ninth': 244,\n",
       " 'ninth position': 242,\n",
       " 'position uefa': 269,\n",
       " 'uefa club': 387,\n",
       " 'club ranking': 70,\n",
       " 'ranking may': 275,\n",
       " 'barcelona ranked first': 29,\n",
       " 'ranked first international': 274,\n",
       " 'first international federation': 143,\n",
       " 'international federation football': 195,\n",
       " 'federation football history': 137,\n",
       " 'football history statistic': 156,\n",
       " 'history statistic club': 181,\n",
       " 'statistic club world': 333,\n",
       " 'club world ranking': 80,\n",
       " 'world ranking occupies': 422,\n",
       " 'ranking occupies ninth': 277,\n",
       " 'occupies ninth position': 245,\n",
       " 'ninth position uefa': 243,\n",
       " 'position uefa club': 270,\n",
       " 'uefa club ranking': 388,\n",
       " 'club ranking may': 71,\n",
       " 'club long': 66,\n",
       " 'long standing': 226,\n",
       " 'standing rivalry': 330,\n",
       " 'rivalry real': 314,\n",
       " 'real madrid': 280,\n",
       " 'madrid match': 228,\n",
       " 'match two': 233,\n",
       " 'two team': 383,\n",
       " 'team referred': 348,\n",
       " 'referred el': 300,\n",
       " 'el cl': 120,\n",
       " 'cl sico': 58,\n",
       " 'club long standing': 67,\n",
       " 'long standing rivalry': 227,\n",
       " 'standing rivalry real': 331,\n",
       " 'rivalry real madrid': 315,\n",
       " 'real madrid match': 281,\n",
       " 'madrid match two': 229,\n",
       " 'match two team': 234,\n",
       " 'two team referred': 384,\n",
       " 'team referred el': 349,\n",
       " 'referred el cl': 301,\n",
       " 'el cl sico': 121,\n",
       " 'barcelona one': 24,\n",
       " 'one widely': 250,\n",
       " 'widely supported': 404,\n",
       " 'supported team': 340,\n",
       " 'team world': 350,\n",
       " 'world club': 414,\n",
       " 'club one': 68,\n",
       " 'one largest': 248,\n",
       " 'largest social': 210,\n",
       " 'social medium': 327,\n",
       " 'medium following': 235,\n",
       " 'following world': 147,\n",
       " 'world among': 410,\n",
       " 'among sport': 4,\n",
       " 'sport team': 329,\n",
       " 'barcelona one widely': 25,\n",
       " 'one widely supported': 251,\n",
       " 'widely supported team': 405,\n",
       " 'supported team world': 341,\n",
       " 'team world club': 351,\n",
       " 'world club one': 415,\n",
       " 'club one largest': 69,\n",
       " 'one largest social': 249,\n",
       " 'largest social medium': 211,\n",
       " 'social medium following': 328,\n",
       " 'medium following world': 236,\n",
       " 'following world among': 148,\n",
       " 'world among sport': 411,\n",
       " 'among sport team': 5,\n",
       " 'barcelona player': 26,\n",
       " 'player joint': 261,\n",
       " 'record twelve': 296,\n",
       " 'twelve ballon': 377,\n",
       " 'ballon award': 16,\n",
       " 'award recipient': 12,\n",
       " 'recipient including': 282,\n",
       " 'including johan': 184,\n",
       " 'johan cruyff': 200,\n",
       " 'cruyff well': 90,\n",
       " 'record six': 290,\n",
       " 'six fifa': 325,\n",
       " 'fifa world': 140,\n",
       " 'world player': 419,\n",
       " 'player year': 267,\n",
       " 'year award': 433,\n",
       " 'award winner': 14,\n",
       " 'winner including': 408,\n",
       " 'including rom': 186,\n",
       " 'rom rio': 316,\n",
       " 'rio ronaldo': 310,\n",
       " 'ronaldo rivaldo': 320,\n",
       " 'rivaldo ronaldinho': 312,\n",
       " 'ronaldinho lionel': 318,\n",
       " 'lionel messi': 224,\n",
       " 'barcelona player joint': 27,\n",
       " 'player joint record': 262,\n",
       " 'joint record twelve': 203,\n",
       " 'record twelve ballon': 297,\n",
       " 'twelve ballon award': 378,\n",
       " 'ballon award recipient': 17,\n",
       " 'award recipient including': 13,\n",
       " 'recipient including johan': 283,\n",
       " 'including johan cruyff': 185,\n",
       " 'johan cruyff well': 201,\n",
       " 'cruyff well record': 91,\n",
       " 'well record six': 403,\n",
       " 'record six fifa': 291,\n",
       " 'six fifa world': 326,\n",
       " 'fifa world player': 141,\n",
       " 'world player year': 420,\n",
       " 'player year award': 268,\n",
       " 'year award winner': 434,\n",
       " 'award winner including': 15,\n",
       " 'winner including rom': 409,\n",
       " 'including rom rio': 187,\n",
       " 'rom rio ronaldo': 317,\n",
       " 'rio ronaldo rivaldo': 311,\n",
       " 'ronaldo rivaldo ronaldinho': 321,\n",
       " 'rivaldo ronaldinho lionel': 313,\n",
       " 'ronaldinho lionel messi': 319,\n",
       " 'three player': 364,\n",
       " 'player came': 257,\n",
       " 'came club': 42,\n",
       " 'club youth': 82,\n",
       " 'youth academy': 435,\n",
       " 'academy lionel': 0,\n",
       " 'messi andr': 237,\n",
       " 'andr iniesta': 6,\n",
       " 'iniesta xavi': 188,\n",
       " 'xavi chosen': 431,\n",
       " 'chosen three': 54,\n",
       " 'three best': 356,\n",
       " 'best player': 36,\n",
       " 'player world': 265,\n",
       " 'world ballon': 412,\n",
       " 'ballon ranking': 18,\n",
       " 'ranking unprecedented': 278,\n",
       " 'unprecedented feat': 397,\n",
       " 'feat player': 134,\n",
       " 'player football': 259,\n",
       " 'football academy': 149,\n",
       " 'three player came': 365,\n",
       " 'player came club': 258,\n",
       " 'came club youth': 43,\n",
       " 'club youth academy': 83,\n",
       " 'youth academy lionel': 436,\n",
       " 'academy lionel messi': 1,\n",
       " 'lionel messi andr': 225,\n",
       " 'messi andr iniesta': 238,\n",
       " 'andr iniesta xavi': 7,\n",
       " 'iniesta xavi chosen': 189,\n",
       " 'xavi chosen three': 432,\n",
       " 'chosen three best': 55,\n",
       " 'three best player': 357,\n",
       " 'best player world': 37,\n",
       " 'player world ballon': 266,\n",
       " 'world ballon ranking': 413,\n",
       " 'ballon ranking unprecedented': 19,\n",
       " 'ranking unprecedented feat': 279,\n",
       " 'unprecedented feat player': 398,\n",
       " 'feat player football': 135,\n",
       " 'player football academy': 260,\n",
       " 'additionally player': 2,\n",
       " 'player representing': 263,\n",
       " 'representing club': 302,\n",
       " 'club record': 72,\n",
       " 'record eight': 284,\n",
       " 'eight european': 118,\n",
       " 'european golden': 126,\n",
       " 'golden shoe': 172,\n",
       " 'shoe award': 324,\n",
       " 'additionally player representing': 3,\n",
       " 'player representing club': 264,\n",
       " 'representing club record': 303,\n",
       " 'club record eight': 73,\n",
       " 'record eight european': 285,\n",
       " 'eight european golden': 119,\n",
       " 'european golden shoe': 127,\n",
       " 'golden shoe award': 173}"
      ]
     },
     "execution_count": 62,
     "metadata": {},
     "output_type": "execute_result"
    }
   ],
   "source": [
    "cv.vocabulary_"
   ]
  },
  {
   "cell_type": "code",
   "execution_count": 63,
   "metadata": {},
   "outputs": [
    {
     "data": {
      "text/plain": [
       "array([[0, 0, 1, 1, 0, 0, 0, 0, 0, 0, 0, 0, 0, 0, 0, 0, 0, 0, 0, 0, 0, 0,\n",
       "        0, 0, 0, 0, 0, 0, 0, 0, 0, 0, 0, 0, 0, 0, 0, 0, 0, 0, 0, 0, 0, 0,\n",
       "        0, 0, 0, 0, 0, 0, 0, 0, 0, 0, 0, 0, 0, 0, 0, 0, 0, 0, 0, 0, 0, 0,\n",
       "        0, 0, 0, 0, 0, 0, 1, 1, 0, 0, 0, 0, 0, 0, 0, 0, 0, 0, 0, 0, 0, 0,\n",
       "        0, 0, 0, 0, 0, 0, 0, 0, 0, 0, 0, 0, 0, 0, 0, 0, 0, 0, 0, 0, 0, 0,\n",
       "        0, 0, 0, 0, 0, 0, 0, 0, 1, 1, 0, 0, 0, 0, 0, 0, 1, 1, 0, 0, 0, 0,\n",
       "        0, 0, 0, 0, 0, 0, 0, 0, 0, 0, 0, 0, 0, 0, 0, 0, 0, 0, 0, 0, 0, 0,\n",
       "        0, 0, 0, 0, 0, 0, 0, 0, 0, 0, 0, 0, 0, 0, 0, 0, 0, 0, 1, 1, 0, 0,\n",
       "        0, 0, 0, 0, 0, 0, 0, 0, 0, 0, 0, 0, 0, 0, 0, 0, 0, 0, 0, 0, 0, 0,\n",
       "        0, 0, 0, 0, 0, 0, 0, 0, 0, 0, 0, 0, 0, 0, 0, 0, 0, 0, 0, 0, 0, 0,\n",
       "        0, 0, 0, 0, 0, 0, 0, 0, 0, 0, 0, 0, 0, 0, 0, 0, 0, 0, 0, 0, 0, 0,\n",
       "        0, 0, 0, 0, 0, 0, 0, 0, 0, 0, 0, 0, 0, 0, 0, 0, 0, 0, 0, 0, 0, 1,\n",
       "        1, 0, 0, 0, 0, 0, 0, 0, 0, 0, 0, 0, 0, 0, 0, 0, 0, 0, 0, 0, 1, 1,\n",
       "        0, 0, 0, 0, 0, 0, 0, 0, 0, 0, 0, 0, 0, 0, 0, 0, 1, 1, 0, 0, 0, 0,\n",
       "        0, 0, 0, 0, 0, 0, 0, 0, 0, 0, 0, 0, 0, 0, 0, 0, 1, 0, 0, 0, 0, 0,\n",
       "        0, 0, 0, 0, 0, 0, 0, 0, 0, 0, 0, 0, 0, 0, 0, 0, 0, 0, 0, 0, 0, 0,\n",
       "        0, 0, 0, 0, 0, 0, 0, 0, 0, 0, 0, 0, 0, 0, 0, 0, 0, 0, 0, 0, 0, 0,\n",
       "        0, 0, 0, 0, 0, 0, 0, 0, 0, 0, 0, 0, 0, 0, 0, 0, 0, 0, 0, 0, 0, 0,\n",
       "        0, 0, 0, 0, 0, 0, 0, 0, 0, 0, 0, 0, 0, 0, 0, 0, 0, 0, 0, 0, 0, 0,\n",
       "        0, 0, 0, 0, 0, 0, 0, 0, 0, 0, 0, 0, 0, 0, 0, 0, 0, 0, 0]],\n",
       "      dtype=int64)"
      ]
     },
     "execution_count": 63,
     "metadata": {},
     "output_type": "execute_result"
    }
   ],
   "source": [
    "X[12].toarray()"
   ]
  },
  {
   "cell_type": "code",
   "execution_count": 94,
   "metadata": {},
   "outputs": [],
   "source": [
    "### TFIDF\n",
    "from sklearn.feature_extraction.text import TfidfVectorizer\n",
    "cv = TfidfVectorizer( max_features= 10)\n",
    "X = cv.fit_transform(corpus)"
   ]
  },
  {
   "cell_type": "code",
   "execution_count": 95,
   "metadata": {},
   "outputs": [
    {
     "data": {
      "text/plain": [
       "array([[0.        , 0.40966683, 0.        , 0.        , 0.67674847,\n",
       "        0.61170629, 0.        , 0.        , 0.        , 0.        ]])"
      ]
     },
     "execution_count": 95,
     "metadata": {},
     "output_type": "execute_result"
    }
   ],
   "source": [
    "X[12].toarray()"
   ]
  },
  {
   "cell_type": "code",
   "execution_count": null,
   "metadata": {},
   "outputs": [],
   "source": []
  }
 ],
 "metadata": {
  "kernelspec": {
   "display_name": "Python 3",
   "language": "python",
   "name": "python3"
  },
  "language_info": {
   "codemirror_mode": {
    "name": "ipython",
    "version": 3
   },
   "file_extension": ".py",
   "mimetype": "text/x-python",
   "name": "python",
   "nbconvert_exporter": "python",
   "pygments_lexer": "ipython3",
   "version": "3.12.3"
  }
 },
 "nbformat": 4,
 "nbformat_minor": 2
}
